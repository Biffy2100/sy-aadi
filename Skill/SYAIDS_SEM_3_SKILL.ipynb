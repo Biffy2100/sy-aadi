{
  "nbformat": 4,
  "nbformat_minor": 0,
  "metadata": {
    "colab": {
      "provenance": [],
      "include_colab_link": true
    },
    "kernelspec": {
      "name": "python3",
      "display_name": "Python 3"
    },
    "language_info": {
      "name": "python"
    }
  },
  "cells": [
    {
      "cell_type": "markdown",
      "metadata": {
        "id": "view-in-github",
        "colab_type": "text"
      },
      "source": [
        "<a href=\"https://colab.research.google.com/github/ManishInde/sy/blob/main/SYAIDS_SEM_3_SKILL.ipynb\" target=\"_parent\"><img src=\"https://colab.research.google.com/assets/colab-badge.svg\" alt=\"Open In Colab\"/></a>"
      ]
    },
    {
      "cell_type": "markdown",
      "source": [
        "Experiment 1\n"
      ],
      "metadata": {
        "id": "emXGJZDhY0DM"
      }
    },
    {
      "cell_type": "markdown",
      "source": [
        "Import drive from google.colab\n"
      ],
      "metadata": {
        "id": "RyEXgQtTieB-"
      }
    },
    {
      "cell_type": "code",
      "execution_count": null,
      "metadata": {
        "colab": {
          "base_uri": "https://localhost:8080/"
        },
        "id": "fjaw3_VShDjD",
        "outputId": "1b1f83cf-50b7-4b69-9eed-a969b5f81b78"
      },
      "outputs": [
        {
          "output_type": "stream",
          "name": "stdout",
          "text": [
            "Mounted at /content/drive\n"
          ]
        }
      ],
      "source": [
        "from google.colab import drive\n",
        "drive.mount('/content/drive')\n",
        "import pandas as pd"
      ]
    },
    {
      "cell_type": "code",
      "source": [
        "url1 = '/content/winequality-red.csv'\n",
        "url2 = '/content/winequality-white.csv'\n",
        "\n",
        "df1 = pd.read_csv(url1,delimiter = ';')\n",
        "df2 = pd.read_csv(url2,delimiter = ';')\n",
        "\n",
        "print(df1.head())\n",
        "print(df2.head())"
      ],
      "metadata": {
        "id": "GfTe4gqEimoz"
      },
      "execution_count": null,
      "outputs": []
    },
    {
      "cell_type": "code",
      "source": [
        "merged_df = pd.concat([df1, df2])\n",
        "print(merged_df.head())\n",
        "\n",
        "renamed_df = merged_df.rename(columns = {'fixed acidity': 'acidity'})\n",
        "print(renamed_df.head())"
      ],
      "metadata": {
        "id": "LDGBB6sUlAz_"
      },
      "execution_count": null,
      "outputs": []
    },
    {
      "cell_type": "markdown",
      "source": [
        "Experiment 2"
      ],
      "metadata": {
        "id": "ARrn5VpbZ6Sq"
      }
    },
    {
      "cell_type": "code",
      "source": [
        "from google.colab import drive\n",
        "drive.mount('/content/drive')\n",
        "import pandas as pd\n",
        "\n",
        "urlD = '/content/sample_data/Diabetes Missing Data.csv'\n",
        "\n",
        "dfD = pd.read_csv(urlD)\n",
        "print(dfD.head())"
      ],
      "metadata": {
        "id": "W4KuTxT5YPNb"
      },
      "execution_count": null,
      "outputs": []
    },
    {
      "cell_type": "code",
      "source": [
        "dfD.dropna(inplace = True)\n",
        "print(dfD.head())"
      ],
      "metadata": {
        "id": "0DL2042kaNR_"
      },
      "execution_count": null,
      "outputs": []
    },
    {
      "cell_type": "markdown",
      "source": [
        "https://github.com/YBI-Foundation/Dataset/blob/main/Diabetes.csv"
      ],
      "metadata": {
        "id": "HFHb0jBFlE4k"
      }
    }
  ]
}